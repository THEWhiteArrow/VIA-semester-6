{
 "cells": [
  {
   "cell_type": "markdown",
   "metadata": {},
   "source": [
    "# Exercise 1¶\n",
    "A computer system uses passwords that are exactly six characters and each character is one of the 26 letters (a-–z) or 10 integers (0-–9). Suppose that 10,000 users of the system have unique passwords. A hacker randomly selects (with replacement) 100,000 passwords from the potential set, and a match to a user’s password is called a hit.\n",
    "\n",
    "What is the distribution of the number of hits?\n",
    "What is the probability of no hits?\n",
    "What are the mean and variance of the number of hits?"
   ]
  },
  {
   "cell_type": "code",
   "execution_count": 2,
   "metadata": {},
   "outputs": [
    {
     "name": "stdout",
     "output_type": "stream",
     "text": [
      "0.6316658688216626\n"
     ]
    }
   ],
   "source": [
    "from scipy.stats import binom\n",
    "\n",
    "n = 100*1000\n",
    "p = 10*1000/36**6\n",
    "x = 0\n",
    "ans =binom.pmf(\n",
    "    n=n,\n",
    "    k=x,\n",
    "    p=p\n",
    ")\n",
    "\n",
    "print(ans)\n"
   ]
  },
  {
   "cell_type": "code",
   "execution_count": 3,
   "metadata": {},
   "outputs": [
    {
     "name": "stdout",
     "output_type": "stream",
     "text": [
      "0.45939365799778337\n",
      "0.45939154757245326\n"
     ]
    }
   ],
   "source": [
    "mean = n*p\n",
    "variance = n*p*(1-p)\n",
    "print(mean)\n",
    "print(variance)\n"
   ]
  },
  {
   "cell_type": "markdown",
   "metadata": {},
   "source": [
    "# Exercise 2¶\n",
    "Because all airline passengers do not show up for their reserved seat, an airline sells 125 tickets for a flight that holds only 120 passengers. The probability that a passenger does not show up is 0.10, and the passengers behave independently.\n",
    "\n",
    "What is the probability that every passenger who shows up can take the flight?\n",
    "What is the probability that the flight departs with empty seats?"
   ]
  },
  {
   "cell_type": "code",
   "execution_count": 15,
   "metadata": {},
   "outputs": [
    {
     "name": "stdout",
     "output_type": "stream",
     "text": [
      "0.9961414046432231\n",
      "0.9961414046432232\n"
     ]
    }
   ],
   "source": [
    "n = 125\n",
    "p = 0.1\n",
    " \n",
    "can_take_flight = 1- binom.cdf(k=4,p=p,n=n)\n",
    "\n",
    "print(can_take_flight)\n",
    "\n",
    "a0 = binom.pmf(k=0,n=n,p=p)\n",
    "a1 = binom.pmf(k=1,n=n,p=p)\n",
    "a2 = binom.pmf(k=2,n=n,p=p)\n",
    "a3 = binom.pmf(k=3,n=n,p=p)\n",
    "a4 = binom.pmf(k=4,n=n,p=p)\n",
    "\n",
    "a_sum = a0+a1+a2+a3+a4\n",
    "\n",
    "print(1-a_sum)\n",
    " "
   ]
  },
  {
   "cell_type": "markdown",
   "metadata": {},
   "source": [
    "# Exercise 3¶\n",
    "A player of a video game is confronted with a series of opponents and has an 80\\% probability of defeating each one. Success with any opponent is independent of previous encounters. Until defeated, the player continues to contest opponents.\n",
    "\n",
    "What is the probability mass function of the number of opponents contested in a game?\n",
    "\n",
    "What is the probability that a player defeats at least two opponents in a game?\n",
    "\n",
    "What is the expected number of opponents contested in a game?\n",
    "\n",
    "What is the probability that a player contests four or more opponents in a game?\n",
    "\n",
    "What is the expected number of game plays until a player contests four or more opponents?"
   ]
  },
  {
   "cell_type": "code",
   "execution_count": 32,
   "metadata": {},
   "outputs": [
    {
     "name": "stdout",
     "output_type": "stream",
     "text": [
      "0.64\n",
      "5.0\n",
      "0.512\n",
      "1.953125\n"
     ]
    }
   ],
   "source": [
    "from scipy.stats import geom\n",
    "\n",
    "p = 0.2 # -> possibility of failure which is a success in this case\n",
    "\n",
    "# a = pow((1-(1-0.2)),x-1)*0.2\n",
    "\n",
    "b = 1 - geom.cdf(k=2,p=p)\n",
    "print(b)\n",
    "\n",
    "c = 1/(p)\n",
    "print(c)\n",
    "\n",
    "d = 1-geom.cdf(k=3,p=p) \n",
    "\n",
    "\"\"\"\n",
    "this is bacuse we want to calculate the possibility that he will not lose until the 3rd game since\n",
    "contesting the next player will be certain regardless of his win or lose\n",
    "\"\"\"\n",
    "print(d)\n",
    "\n",
    "e = 1/d\n",
    "print(e)"
   ]
  },
  {
   "cell_type": "markdown",
   "metadata": {},
   "source": [
    "# Exercise 4¶\n",
    "Astronomers treat the number of stars in a given volume of space as a Poisson random variable. The density in the Milky Way Galaxy in the vicinity of our solar system is one star per 16 cubic light-years.\n",
    "\n",
    "What is the probability of no stars in 16 cubic light-years?\n",
    "\n",
    "What is the probability of two or more stars in 16 cubic light-years?\n",
    "\n",
    "How many cubic light-years of space must be studied so that the probability of one or more stars exceeds 0.95?"
   ]
  },
  {
   "cell_type": "code",
   "execution_count": 46,
   "metadata": {},
   "outputs": [
    {
     "name": "stdout",
     "output_type": "stream",
     "text": [
      "0.36787944117144233\n",
      "0.26424111765711533\n",
      "2.995732273553991\n",
      "48\n"
     ]
    }
   ],
   "source": [
    "from scipy.stats import poisson\n",
    "from math import ceil, log1p\n",
    "\n",
    "a = poisson.pmf(k=0,mu=1)\n",
    "print(a)\n",
    "\n",
    "b = 1-poisson.cdf(k=1,mu=1)\n",
    "print(b)\n",
    "\n",
    "c_temp = log1p(19)\n",
    "print(c_temp)\n",
    "\"\"\"\n",
    "0.05 > e^(-lambda) *lambda^0 / 0!\n",
    "0.05 > e^(-lambda)\n",
    "0.05 > 1/e^lambda\n",
    "e^lambda > 20\n",
    "lambda > ln(20)\n",
    "lambda > 2.9957\n",
    "\"\"\"\n",
    "print(ceil(c_temp)*16)\n"
   ]
  },
  {
   "cell_type": "markdown",
   "metadata": {},
   "source": [
    "# Exercise 5¶\n",
    "A congested computer network has a 1% chance of losing a data packet that must be resent, and packet losses are independent events. An e-mail message requires 100 packets.\n",
    "\n",
    "What is the distribution of the number of packets in an e-mail message that must be resent? Include the parameter values.\n",
    "\n",
    "What is the probability that at least one packet is resent?\n",
    "\n",
    "What is the probability that two or more packets are resent?\n",
    "\n",
    "What are the mean and standard deviation of the number of packets that are resent?\n",
    "\n",
    "If there are 10 messages and each contains 100 packets, what is the probability that at least one message requires that two or more packets be resent?"
   ]
  },
  {
   "cell_type": "code",
   "execution_count": 52,
   "metadata": {},
   "outputs": [
    {
     "name": "stdout",
     "output_type": "stream",
     "text": [
      "0.6339676587267704\n",
      "0.26423802107704364\n",
      "1.0\n",
      "0.99498743710662\n",
      "0.9535085152866581\n"
     ]
    }
   ],
   "source": [
    "# A\n",
    "# Binomial distribution\n",
    "p = 0.01\n",
    "n = 100\n",
    "\n",
    "# B\n",
    "b = 1 - binom.pmf(k=0,n=n,p=p)\n",
    "print(b)\n",
    "\n",
    "# C\n",
    "c = 1 - binom.cdf(k=1,n=n,p=p) \n",
    "print(c)\n",
    "\n",
    "# D\n",
    "mean = n*p\n",
    "print(mean)\n",
    "\n",
    "variance = n*p*(1-p)\n",
    "std = variance**0.5\n",
    "print(std)\n",
    "\n",
    "# E\n",
    "ep = c\n",
    "en = 10\n",
    "e = 1 - binom.pmf(k=0,n=en,p=ep)\n",
    "print(e)\n"
   ]
  },
  {
   "cell_type": "markdown",
   "metadata": {},
   "source": [
    "# Exercise 6¶\n",
    "A manufacturer of a consumer electronics product expects 2% of units to fail during the warranty period. A sample of 500 independent units is tracked for warranty performance.\n",
    "\n",
    "What is the probability that none fails during the warranty period?\n",
    "\n",
    "What is the expected number of failures during the warranty period?\n",
    "\n",
    "What is the probability that more than two units fail during the warranty period?"
   ]
  },
  {
   "cell_type": "code",
   "execution_count": 74,
   "metadata": {},
   "outputs": [
    {
     "name": "stdout",
     "output_type": "stream",
     "text": [
      "0.0\n",
      "10.0\n",
      "0.9974088594871737\n"
     ]
    }
   ],
   "source": [
    "p = 0.02\n",
    "n = 500\n",
    "\n",
    "# A\n",
    "a = round(binom.pmf(k=0,n=n,p=p),4)\n",
    "print(a)\n",
    "\n",
    "# B\n",
    "\"\"\"\n",
    "for binomial distribution the expected value is n*p while for the geometric distribution it is 1/p\n",
    "\"\"\"\n",
    "b = n*p\n",
    "print(b)\n",
    "\n",
    "# C\n",
    "c = 1 - binom.cdf(k=2,n=n,p=p)\n",
    "print(c)\n"
   ]
  },
  {
   "cell_type": "markdown",
   "metadata": {},
   "source": [
    "# Exercise 7¶\n",
    "The probability that a patient recovers from a rare blood disease is 0.4. If 15 people are known to have contracted this disease, what is the probability that:\n",
    "\n",
    "At least 10 survive\n",
    "\n",
    "From 3 to 8 survive\n",
    "\n",
    "Exactly 5 survive\n",
    "\n",
    "Find the mean and variance."
   ]
  },
  {
   "cell_type": "code",
   "execution_count": 79,
   "metadata": {},
   "outputs": [
    {
     "name": "stdout",
     "output_type": "stream",
     "text": [
      "0.0338\n",
      "0.8778\n",
      "0.1859\n",
      "6.0\n",
      "3.6\n"
     ]
    }
   ],
   "source": [
    "p = 0.4\n",
    "n = 15\n",
    "\n",
    "# A\n",
    "a = round(1 -binom.cdf(k=9,n=n,p=p),4)\n",
    "print(a)\n",
    "\n",
    "# B\n",
    "b = round(binom.cdf(k=8,n=n,p=p)-binom.cdf(k=2,n=n,p=p),4)\n",
    "print(b)\n",
    "\n",
    "# C\n",
    "c = round(binom.pmf(k=5,n=n,p=p),4)\n",
    "print(c)\n",
    "\n",
    "# D\n",
    "mean = round(n*p,4)\n",
    "variance = round(n*p*(1-p),4)\n",
    "\n",
    "print(mean)\n",
    "print(variance)"
   ]
  },
  {
   "cell_type": "markdown",
   "metadata": {},
   "source": [
    "# Exercise 8¶\n",
    "A large chain retailer purchases a certain kind of electronic device from a manufacturer. The manufacturer indicates that the defective rate of the device is 3%.\n",
    "\n",
    "The inspector of the retailer randomly picks 20 items from a shipment. What is the probability that there will be at least one defective item among them?\n",
    "\n",
    "Suppose that the retailer receives 10 shipments in a month and the inspector randomly tests 20 devices per shipment. What is the probability that there will be 3 shipments containing at least one defective device?"
   ]
  },
  {
   "cell_type": "code",
   "execution_count": 81,
   "metadata": {},
   "outputs": [
    {
     "name": "stdout",
     "output_type": "stream",
     "text": [
      "0.4562\n",
      "0.1602\n"
     ]
    }
   ],
   "source": [
    "p = 0.03\n",
    "n = 20\n",
    "\n",
    "# A\n",
    "a = round(1-binom.pmf(k=0,n=n,p=p),4)\n",
    "print(a)\n",
    "\n",
    "# B\n",
    "bn = 10\n",
    "bp = a\n",
    "bk = 3\n",
    "b = round(binom.pmf(k=bk,n=bn,p=bp),4)\n",
    "print(b)"
   ]
  },
  {
   "cell_type": "markdown",
   "metadata": {},
   "source": [
    "# Exercise 9¶\n",
    "High flows result in the closure of a causeway. From past records, the road is closed for this reason on 10 days during a 20-year period. At an adjoining village, there is concern about the closure of the causeway because it provides the only access. The villagers assume that the probability of a closure of the road for more than one day during a year is less than 0.10. Is this correct? Please show using the Poisson distribution."
   ]
  },
  {
   "cell_type": "code",
   "execution_count": 84,
   "metadata": {},
   "outputs": [
    {
     "name": "stdout",
     "output_type": "stream",
     "text": [
      "0.09020401043104986\n",
      "True\n"
     ]
    }
   ],
   "source": [
    "# 10 events over 20 years\n",
    "# 0.5 event per year\n",
    "\n",
    "ans = 1 - poisson.cdf(k=1,mu=0.5)\n",
    "print(ans)\n",
    "\n",
    "print(ans < 0.1)"
   ]
  },
  {
   "cell_type": "markdown",
   "metadata": {},
   "source": [
    "# Exercise 10¶\n",
    "A company performs inspection on shipments from suppliers in order to detect nonconforming products. Assume a lot contains 1000 items and 1% is nonconforming. Assuming that the number of nonconforming products in the sample is binomial, what sample size is needed so that the probability of choosing at least one nonconforming item in the sample is at least 0.9?"
   ]
  },
  {
   "cell_type": "code",
   "execution_count": 116,
   "metadata": {},
   "outputs": [
    {
     "name": "stdout",
     "output_type": "stream",
     "text": [
      "Ans for 230 is 0.9008951844811252\n"
     ]
    }
   ],
   "source": [
    "\n",
    "for i in range(100,400):\n",
    "    ans = 1-binom.pmf(k=0,n=i,p=0.01)\n",
    "    if ans > 0.9:\n",
    "        print(f\"Ans for {i} is {ans}\")\n",
    "        break\n"
   ]
  },
  {
   "cell_type": "markdown",
   "metadata": {},
   "source": [
    "# Exercise 11¶\n",
    "The number of errors in a textbook follows a Poisson distribution with a mean of 0.01 error per page. What is the probability that there are three or less errors in 100 pages?"
   ]
  },
  {
   "cell_type": "code",
   "execution_count": 121,
   "metadata": {},
   "outputs": [
    {
     "name": "stdout",
     "output_type": "stream",
     "text": [
      "0.9810118431238462\n"
     ]
    }
   ],
   "source": [
    "\n",
    "ans = poisson.cdf(k=3,mu=mean*100)\n",
    "\n",
    "print(ans)\n",
    "\n"
   ]
  }
 ],
 "metadata": {
  "kernelspec": {
   "display_name": "Python 3",
   "language": "python",
   "name": "python3"
  },
  "language_info": {
   "codemirror_mode": {
    "name": "ipython",
    "version": 3
   },
   "file_extension": ".py",
   "mimetype": "text/x-python",
   "name": "python",
   "nbconvert_exporter": "python",
   "pygments_lexer": "ipython3",
   "version": "3.12.3"
  }
 },
 "nbformat": 4,
 "nbformat_minor": 2
}
